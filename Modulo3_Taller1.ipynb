{
 "cells": [
  {
   "cell_type": "markdown",
   "source": "\n<figure>\n<img src=\"/work/Modulo3_Taller1/fig/ISEADE LOGO Y ESCUDO.png\" align=\"center\"/> \n</figure> ",
   "metadata": {
    "cell_id": "86a926d3-13da-4db0-8721-c8f48321ced9",
    "tags": [],
    "deepnote_cell_type": "markdown",
    "deepnote_cell_height": 271.4375
   }
  },
  {
   "cell_type": "markdown",
   "source": "# Taller 1 - Precios",
   "metadata": {
    "cell_id": "e1f927b4-379f-4c42-845b-31271b917f9d",
    "tags": [],
    "deepnote_cell_type": "markdown",
    "deepnote_cell_height": 82
   }
  },
  {
   "cell_type": "markdown",
   "source": "## Importación de Datos",
   "metadata": {
    "cell_id": "3f0cce57-9e14-48b0-91a4-d2ef4bc7c922",
    "tags": [],
    "deepnote_cell_type": "markdown",
    "deepnote_cell_height": 70
   }
  },
  {
   "cell_type": "code",
   "source": "!pip install openpyxl",
   "metadata": {
    "cell_id": "c9c87b6f-a312-4f8e-b1d8-9a45dad6f1c3",
    "tags": [],
    "deepnote_to_be_reexecuted": false,
    "source_hash": "ea22c22c",
    "execution_start": 1646772685931,
    "execution_millis": 5827,
    "deepnote_cell_type": "code",
    "deepnote_cell_height": 217.75
   },
   "outputs": [
    {
     "name": "stdout",
     "text": "Requirement already satisfied: openpyxl in /root/venv/lib/python3.7/site-packages (3.0.9)\nRequirement already satisfied: et-xmlfile in /root/venv/lib/python3.7/site-packages (from openpyxl) (1.1.0)\n\u001b[33mWARNING: You are using pip version 20.1.1; however, version 22.0.4 is available.\nYou should consider upgrading via the '/root/venv/bin/python -m pip install --upgrade pip' command.\u001b[0m\n",
     "output_type": "stream"
    }
   ],
   "execution_count": 1
  },
  {
   "cell_type": "code",
   "metadata": {
    "cell_id": "6b86ff09-0b02-400d-b7d4-4ec3ce7f0d89",
    "tags": [],
    "deepnote_to_be_reexecuted": false,
    "source_hash": "e5494d44",
    "execution_start": 1646772691780,
    "execution_millis": 2951,
    "deepnote_cell_type": "code",
    "deepnote_cell_height": 383,
    "deepnote_output_heights": [
     607
    ]
   },
   "source": "import numpy as np \nimport pandas as pd \nimport seaborn as sns \nimport matplotlib.pyplot as plt\n\ndf_precios = pd.read_excel('/work/Modulo3_Taller1/data/precios.xlsx')\ndf_precios.head(3)",
   "execution_count": 2,
   "outputs": [
    {
     "output_type": "execute_result",
     "execution_count": 2,
     "data": {
      "application/vnd.deepnote.dataframe.v3+json": {
       "column_count": 11,
       "row_count": 3,
       "columns": [
        {
         "name": "ID_producto",
         "dtype": "object",
         "stats": {
          "unique_count": 1,
          "nan_count": 0,
          "categories": [
           {
            "name": "bed1",
            "count": 3
           }
          ]
         }
        },
        {
         "name": "Nombre_categoria_producto",
         "dtype": "object",
         "stats": {
          "unique_count": 1,
          "nan_count": 0,
          "categories": [
           {
            "name": "bed_bath_table",
            "count": 3
           }
          ]
         }
        },
        {
         "name": "Cantidad",
         "dtype": "int64",
         "stats": {
          "unique_count": 3,
          "nan_count": 0,
          "min": "1",
          "max": "6",
          "histogram": [
           {
            "bin_start": 1,
            "bin_end": 1.5,
            "count": 1
           },
           {
            "bin_start": 1.5,
            "bin_end": 2,
            "count": 0
           },
           {
            "bin_start": 2,
            "bin_end": 2.5,
            "count": 0
           },
           {
            "bin_start": 2.5,
            "bin_end": 3,
            "count": 0
           },
           {
            "bin_start": 3,
            "bin_end": 3.5,
            "count": 1
           },
           {
            "bin_start": 3.5,
            "bin_end": 4,
            "count": 0
           },
           {
            "bin_start": 4,
            "bin_end": 4.5,
            "count": 0
           },
           {
            "bin_start": 4.5,
            "bin_end": 5,
            "count": 0
           },
           {
            "bin_start": 5,
            "bin_end": 5.5,
            "count": 0
           },
           {
            "bin_start": 5.5,
            "bin_end": 6,
            "count": 1
           }
          ]
         }
        },
        {
         "name": "Precio_Total",
         "dtype": "float64",
         "stats": {
          "unique_count": 3,
          "nan_count": 0,
          "min": "52.0",
          "max": "275.7",
          "histogram": [
           {
            "bin_start": 52,
            "bin_end": 74.37,
            "count": 1
           },
           {
            "bin_start": 74.37,
            "bin_end": 96.74,
            "count": 0
           },
           {
            "bin_start": 96.74,
            "bin_end": 119.10999999999999,
            "count": 0
           },
           {
            "bin_start": 119.10999999999999,
            "bin_end": 141.48,
            "count": 1
           },
           {
            "bin_start": 141.48,
            "bin_end": 163.85,
            "count": 0
           },
           {
            "bin_start": 163.85,
            "bin_end": 186.21999999999997,
            "count": 0
           },
           {
            "bin_start": 186.21999999999997,
            "bin_end": 208.58999999999997,
            "count": 0
           },
           {
            "bin_start": 208.58999999999997,
            "bin_end": 230.95999999999998,
            "count": 0
           },
           {
            "bin_start": 230.95999999999998,
            "bin_end": 253.32999999999998,
            "count": 0
           },
           {
            "bin_start": 253.32999999999998,
            "bin_end": 275.7,
            "count": 1
           }
          ]
         }
        },
        {
         "name": "Peso_Producto",
         "dtype": "int64",
         "stats": {
          "unique_count": 1,
          "nan_count": 0,
          "min": "350",
          "max": "350",
          "histogram": [
           {
            "bin_start": 349.5,
            "bin_end": 349.6,
            "count": 0
           },
           {
            "bin_start": 349.6,
            "bin_end": 349.7,
            "count": 0
           },
           {
            "bin_start": 349.7,
            "bin_end": 349.8,
            "count": 0
           },
           {
            "bin_start": 349.8,
            "bin_end": 349.9,
            "count": 0
           },
           {
            "bin_start": 349.9,
            "bin_end": 350,
            "count": 0
           },
           {
            "bin_start": 350,
            "bin_end": 350.1,
            "count": 3
           },
           {
            "bin_start": 350.1,
            "bin_end": 350.2,
            "count": 0
           },
           {
            "bin_start": 350.2,
            "bin_end": 350.3,
            "count": 0
           },
           {
            "bin_start": 350.3,
            "bin_end": 350.4,
            "count": 0
           },
           {
            "bin_start": 350.4,
            "bin_end": 350.5,
            "count": 0
           }
          ]
         }
        },
        {
         "name": "Calificación_Producto",
         "dtype": "float64",
         "stats": {
          "unique_count": 1,
          "nan_count": 0,
          "min": "4.0",
          "max": "4.0",
          "histogram": [
           {
            "bin_start": 3.5,
            "bin_end": 3.6,
            "count": 0
           },
           {
            "bin_start": 3.6,
            "bin_end": 3.7,
            "count": 0
           },
           {
            "bin_start": 3.7,
            "bin_end": 3.8,
            "count": 0
           },
           {
            "bin_start": 3.8,
            "bin_end": 3.9,
            "count": 0
           },
           {
            "bin_start": 3.9,
            "bin_end": 4,
            "count": 0
           },
           {
            "bin_start": 4,
            "bin_end": 4.1,
            "count": 3
           },
           {
            "bin_start": 4.1,
            "bin_end": 4.2,
            "count": 0
           },
           {
            "bin_start": 4.2,
            "bin_end": 4.3,
            "count": 0
           },
           {
            "bin_start": 4.3,
            "bin_end": 4.4,
            "count": 0
           },
           {
            "bin_start": 4.4,
            "bin_end": 4.5,
            "count": 0
           }
          ]
         }
        },
        {
         "name": "Ventas",
         "dtype": "int64",
         "stats": {
          "unique_count": 3,
          "nan_count": 0,
          "min": "57",
          "max": "123",
          "histogram": [
           {
            "bin_start": 57,
            "bin_end": 63.6,
            "count": 2
           },
           {
            "bin_start": 63.6,
            "bin_end": 70.2,
            "count": 0
           },
           {
            "bin_start": 70.2,
            "bin_end": 76.8,
            "count": 0
           },
           {
            "bin_start": 76.8,
            "bin_end": 83.4,
            "count": 0
           },
           {
            "bin_start": 83.4,
            "bin_end": 90,
            "count": 0
           },
           {
            "bin_start": 90,
            "bin_end": 96.6,
            "count": 0
           },
           {
            "bin_start": 96.6,
            "bin_end": 103.19999999999999,
            "count": 0
           },
           {
            "bin_start": 103.19999999999999,
            "bin_end": 109.8,
            "count": 0
           },
           {
            "bin_start": 109.8,
            "bin_end": 116.4,
            "count": 0
           },
           {
            "bin_start": 116.4,
            "bin_end": 123,
            "count": 1
           }
          ]
         }
        },
        {
         "name": "Mes",
         "dtype": "int64",
         "stats": {
          "unique_count": 3,
          "nan_count": 0,
          "min": "5",
          "max": "7",
          "histogram": [
           {
            "bin_start": 5,
            "bin_end": 5.2,
            "count": 1
           },
           {
            "bin_start": 5.2,
            "bin_end": 5.4,
            "count": 0
           },
           {
            "bin_start": 5.4,
            "bin_end": 5.6,
            "count": 0
           },
           {
            "bin_start": 5.6,
            "bin_end": 5.8,
            "count": 0
           },
           {
            "bin_start": 5.8,
            "bin_end": 6,
            "count": 0
           },
           {
            "bin_start": 6,
            "bin_end": 6.2,
            "count": 1
           },
           {
            "bin_start": 6.2,
            "bin_end": 6.4,
            "count": 0
           },
           {
            "bin_start": 6.4,
            "bin_end": 6.6,
            "count": 0
           },
           {
            "bin_start": 6.6,
            "bin_end": 6.8,
            "count": 0
           },
           {
            "bin_start": 6.8,
            "bin_end": 7,
            "count": 1
           }
          ]
         }
        },
        {
         "name": "Año",
         "dtype": "int64",
         "stats": {
          "unique_count": 1,
          "nan_count": 0,
          "min": "2017",
          "max": "2017",
          "histogram": [
           {
            "bin_start": 2016.5,
            "bin_end": 2016.6,
            "count": 0
           },
           {
            "bin_start": 2016.6,
            "bin_end": 2016.7,
            "count": 0
           },
           {
            "bin_start": 2016.7,
            "bin_end": 2016.8,
            "count": 0
           },
           {
            "bin_start": 2016.8,
            "bin_end": 2016.9,
            "count": 0
           },
           {
            "bin_start": 2016.9,
            "bin_end": 2017,
            "count": 0
           },
           {
            "bin_start": 2017,
            "bin_end": 2017.1,
            "count": 3
           },
           {
            "bin_start": 2017.1,
            "bin_end": 2017.2,
            "count": 0
           },
           {
            "bin_start": 2017.2,
            "bin_end": 2017.3,
            "count": 0
           },
           {
            "bin_start": 2017.3,
            "bin_end": 2017.4,
            "count": 0
           },
           {
            "bin_start": 2017.4,
            "bin_end": 2017.5,
            "count": 0
           }
          ]
         }
        },
        {
         "name": "Precio_Competidor_1",
         "dtype": "float64",
         "stats": {
          "unique_count": 1,
          "nan_count": 0,
          "min": "89.9",
          "max": "89.9",
          "histogram": [
           {
            "bin_start": 89.4,
            "bin_end": 89.5,
            "count": 0
           },
           {
            "bin_start": 89.5,
            "bin_end": 89.60000000000001,
            "count": 0
           },
           {
            "bin_start": 89.60000000000001,
            "bin_end": 89.7,
            "count": 0
           },
           {
            "bin_start": 89.7,
            "bin_end": 89.80000000000001,
            "count": 0
           },
           {
            "bin_start": 89.80000000000001,
            "bin_end": 89.9,
            "count": 0
           },
           {
            "bin_start": 89.9,
            "bin_end": 90,
            "count": 3
           },
           {
            "bin_start": 90,
            "bin_end": 90.10000000000001,
            "count": 0
           },
           {
            "bin_start": 90.10000000000001,
            "bin_end": 90.2,
            "count": 0
           },
           {
            "bin_start": 90.2,
            "bin_end": 90.30000000000001,
            "count": 0
           },
           {
            "bin_start": 90.30000000000001,
            "bin_end": 90.4,
            "count": 0
           }
          ]
         }
        },
        {
         "name": "Calificación_Producto_Competidor_1",
         "dtype": "float64",
         "stats": {
          "unique_count": 1,
          "nan_count": 0,
          "min": "3.9",
          "max": "3.9",
          "histogram": [
           {
            "bin_start": 3.4,
            "bin_end": 3.5,
            "count": 0
           },
           {
            "bin_start": 3.5,
            "bin_end": 3.6,
            "count": 0
           },
           {
            "bin_start": 3.6,
            "bin_end": 3.7,
            "count": 0
           },
           {
            "bin_start": 3.7,
            "bin_end": 3.8000000000000003,
            "count": 0
           },
           {
            "bin_start": 3.8000000000000003,
            "bin_end": 3.9000000000000004,
            "count": 3
           },
           {
            "bin_start": 3.9000000000000004,
            "bin_end": 4,
            "count": 0
           },
           {
            "bin_start": 4,
            "bin_end": 4.1000000000000005,
            "count": 0
           },
           {
            "bin_start": 4.1000000000000005,
            "bin_end": 4.2,
            "count": 0
           },
           {
            "bin_start": 4.2,
            "bin_end": 4.300000000000001,
            "count": 0
           },
           {
            "bin_start": 4.300000000000001,
            "bin_end": 4.4,
            "count": 0
           }
          ]
         }
        },
        {
         "name": "_deepnote_index_column",
         "dtype": "int64"
        }
       ],
       "rows": [
        {
         "ID_producto": "bed1",
         "Nombre_categoria_producto": "bed_bath_table",
         "Cantidad": 1,
         "Precio_Total": 52,
         "Peso_Producto": 350,
         "Calificación_Producto": 4,
         "Ventas": 57,
         "Mes": 5,
         "Año": 2017,
         "Precio_Competidor_1": 89.9,
         "Calificación_Producto_Competidor_1": 3.9,
         "_deepnote_index_column": 0
        },
        {
         "ID_producto": "bed1",
         "Nombre_categoria_producto": "bed_bath_table",
         "Cantidad": 3,
         "Precio_Total": 137.85,
         "Peso_Producto": 350,
         "Calificación_Producto": 4,
         "Ventas": 61,
         "Mes": 6,
         "Año": 2017,
         "Precio_Competidor_1": 89.9,
         "Calificación_Producto_Competidor_1": 3.9,
         "_deepnote_index_column": 1
        },
        {
         "ID_producto": "bed1",
         "Nombre_categoria_producto": "bed_bath_table",
         "Cantidad": 6,
         "Precio_Total": 275.7,
         "Peso_Producto": 350,
         "Calificación_Producto": 4,
         "Ventas": 123,
         "Mes": 7,
         "Año": 2017,
         "Precio_Competidor_1": 89.9,
         "Calificación_Producto_Competidor_1": 3.9,
         "_deepnote_index_column": 2
        }
       ]
      },
      "text/plain": "  ID_producto Nombre_categoria_producto  Cantidad  Precio_Total  \\\n0        bed1            bed_bath_table         1         52.00   \n1        bed1            bed_bath_table         3        137.85   \n2        bed1            bed_bath_table         6        275.70   \n\n   Peso_Producto  Calificación_Producto  Ventas  Mes   Año  \\\n0            350                    4.0      57    5  2017   \n1            350                    4.0      61    6  2017   \n2            350                    4.0     123    7  2017   \n\n   Precio_Competidor_1  Calificación_Producto_Competidor_1  \n0                 89.9                                 3.9  \n1                 89.9                                 3.9  \n2                 89.9                                 3.9  ",
      "text/html": "<div>\n<style scoped>\n    .dataframe tbody tr th:only-of-type {\n        vertical-align: middle;\n    }\n\n    .dataframe tbody tr th {\n        vertical-align: top;\n    }\n\n    .dataframe thead th {\n        text-align: right;\n    }\n</style>\n<table border=\"1\" class=\"dataframe\">\n  <thead>\n    <tr style=\"text-align: right;\">\n      <th></th>\n      <th>ID_producto</th>\n      <th>Nombre_categoria_producto</th>\n      <th>Cantidad</th>\n      <th>Precio_Total</th>\n      <th>Peso_Producto</th>\n      <th>Calificación_Producto</th>\n      <th>Ventas</th>\n      <th>Mes</th>\n      <th>Año</th>\n      <th>Precio_Competidor_1</th>\n      <th>Calificación_Producto_Competidor_1</th>\n    </tr>\n  </thead>\n  <tbody>\n    <tr>\n      <th>0</th>\n      <td>bed1</td>\n      <td>bed_bath_table</td>\n      <td>1</td>\n      <td>52.00</td>\n      <td>350</td>\n      <td>4.0</td>\n      <td>57</td>\n      <td>5</td>\n      <td>2017</td>\n      <td>89.9</td>\n      <td>3.9</td>\n    </tr>\n    <tr>\n      <th>1</th>\n      <td>bed1</td>\n      <td>bed_bath_table</td>\n      <td>3</td>\n      <td>137.85</td>\n      <td>350</td>\n      <td>4.0</td>\n      <td>61</td>\n      <td>6</td>\n      <td>2017</td>\n      <td>89.9</td>\n      <td>3.9</td>\n    </tr>\n    <tr>\n      <th>2</th>\n      <td>bed1</td>\n      <td>bed_bath_table</td>\n      <td>6</td>\n      <td>275.70</td>\n      <td>350</td>\n      <td>4.0</td>\n      <td>123</td>\n      <td>7</td>\n      <td>2017</td>\n      <td>89.9</td>\n      <td>3.9</td>\n    </tr>\n  </tbody>\n</table>\n</div>"
     },
     "metadata": {}
    }
   ]
  },
  {
   "cell_type": "markdown",
   "source": "## Problema de Negocio\n\nUsted ha decidido ser un emprendedor y fundar una empresa. Para esto, usted ha calculado todos los precios de los artículos que va a ofrecer en su negocio. Pero actualmente tiene una preocupación: no sabe exactamente si los precios a los que piensa ofrecer sus productos son competitivos en el mercado. Para esto ha hecho un estudio de mercado y ha obtenido una base de datos con información de los precios de la competencia. Estos datos se presentan adjuntos a este archivo. ",
   "metadata": {
    "cell_id": "22b00215-c4b9-42bc-9bb1-b53b42cd37a0",
    "tags": [],
    "deepnote_cell_type": "markdown",
    "deepnote_cell_height": 175.5625
   }
  },
  {
   "cell_type": "markdown",
   "source": "## Parte 1: Análisis Exploratorio de Datos (20%)\n",
   "metadata": {
    "cell_id": "cbb010f9-0f89-4072-9b1d-39a5a363026f",
    "tags": [],
    "deepnote_cell_type": "markdown",
    "deepnote_cell_height": 70
   }
  },
  {
   "cell_type": "markdown",
   "source": "- Identifique la cantidad de columnas y el tipo de información contenidas en estas: (Categórica o no categórica, discreta o continua, etc) que se encuentran en los datos. (5%)\n",
   "metadata": {
    "cell_id": "2e5f9832-9a6c-49b2-8c4e-9fdf24c58546",
    "tags": [],
    "deepnote_cell_type": "markdown",
    "deepnote_cell_height": 91.78125
   }
  },
  {
   "cell_type": "code",
   "metadata": {
    "cell_id": "955555c0-9d65-4382-b3cd-db57693ab2d7",
    "tags": [],
    "deepnote_to_be_reexecuted": false,
    "source_hash": "b623e53d",
    "execution_start": 1646772694754,
    "execution_millis": 347547722,
    "deepnote_cell_type": "code",
    "deepnote_cell_height": 81
   },
   "source": "",
   "execution_count": 2,
   "outputs": []
  },
  {
   "cell_type": "markdown",
   "source": "- Identifique la cantidad de registros con los que contamos. (5%)",
   "metadata": {
    "cell_id": "113208ba-7c27-473c-a0ac-f80ebf84d207",
    "tags": [],
    "deepnote_cell_type": "markdown",
    "deepnote_cell_height": 69.390625
   }
  },
  {
   "cell_type": "code",
   "metadata": {
    "cell_id": "9a355965-545e-40af-a868-61fd93984d67",
    "tags": [],
    "deepnote_to_be_reexecuted": false,
    "source_hash": "b623e53d",
    "execution_start": 1646772694768,
    "execution_millis": 7,
    "deepnote_cell_type": "code",
    "deepnote_cell_height": 81
   },
   "source": "",
   "execution_count": 2,
   "outputs": []
  },
  {
   "cell_type": "markdown",
   "source": "-Con el fin de determinar la distribución y el comportamiento de los datos, analice por medio de gráficos (Histogramas o gráficos de barras) 4 diferentes columnas de la base de datos que considere que sean importantes para la situación negocio. Concluya con respecto a la información presentada en los gráficos y el contexto de negocio. (10%)",
   "metadata": {
    "cell_id": "d2ed6cdc-d56f-4c78-abf3-532bd74cd20a",
    "tags": [],
    "deepnote_cell_type": "markdown",
    "deepnote_cell_height": 97.171875
   }
  },
  {
   "cell_type": "code",
   "metadata": {
    "cell_id": "6c6c8759-bb81-4a09-9a6f-1efc39564f8a",
    "tags": [],
    "deepnote_to_be_reexecuted": false,
    "source_hash": "b623e53d",
    "execution_start": 1646772694824,
    "execution_millis": 347547620,
    "deepnote_cell_type": "code",
    "deepnote_cell_height": 81
   },
   "source": "",
   "execution_count": 2,
   "outputs": []
  },
  {
   "cell_type": "markdown",
   "source": "## Parte 2: Limpieza de Datos (20%)\n\n",
   "metadata": {
    "cell_id": "686aa780-6545-4490-a3f1-cfc9c55c8ff3",
    "tags": [],
    "deepnote_cell_type": "markdown",
    "deepnote_cell_height": 70
   }
  },
  {
   "cell_type": "markdown",
   "source": "•\tDel análisis realizado en el punto anterior, indicar si es necesaria la realización de algún tipo de limpieza. De ser requerida, realizarla e indicar una posible razón de este error. (20%)",
   "metadata": {
    "cell_id": "a22744af-70ce-4ec1-b08d-a9271d719cfd",
    "tags": [],
    "deepnote_cell_type": "markdown",
    "deepnote_cell_height": 74.78125
   }
  },
  {
   "cell_type": "code",
   "metadata": {
    "cell_id": "48f811de-e0a9-4f13-b56a-c24388d9fd50",
    "tags": [],
    "deepnote_to_be_reexecuted": false,
    "source_hash": "b623e53d",
    "execution_start": 1646772694825,
    "execution_millis": 347547616,
    "deepnote_cell_type": "code",
    "deepnote_cell_height": 81
   },
   "source": "",
   "execution_count": 2,
   "outputs": []
  },
  {
   "cell_type": "markdown",
   "source": "## Parte 3: Transformación de Datos (20%)\n\n",
   "metadata": {
    "cell_id": "630181b6-6a6c-4359-948f-077b79a223c4",
    "tags": [],
    "deepnote_cell_type": "markdown",
    "deepnote_cell_height": 70
   }
  },
  {
   "cell_type": "markdown",
   "source": "•\tUn experto externo le indicó que un análisis que puede ser realizado es obtener la diferencia de precio entre nuestros productos y los productos de la competencia. ¿Qué comportamientos y distribución podemos observar en esta columna? ¿Qué significa esto en el contexto de negocio? (10%)",
   "metadata": {
    "cell_id": "4e5e0524-31dc-41d9-a992-a632c98bd21b",
    "tags": [],
    "deepnote_cell_type": "markdown",
    "deepnote_cell_height": 97.171875
   }
  },
  {
   "cell_type": "code",
   "metadata": {
    "cell_id": "97d3cc83-151e-4396-b996-884a35931adc",
    "tags": [],
    "deepnote_to_be_reexecuted": false,
    "source_hash": "b623e53d",
    "execution_start": 1646772694872,
    "execution_millis": 347547572,
    "deepnote_cell_type": "code",
    "deepnote_cell_height": 81
   },
   "source": "",
   "execution_count": 2,
   "outputs": []
  },
  {
   "cell_type": "markdown",
   "source": "•\tRealizar una transformación de datos adicional que considere que sea importante para poder realizar el análisis. Concluir con respecto a la situación de negocio. (10%)",
   "metadata": {
    "cell_id": "f02d6618-edd6-4bd0-a37f-517058730f1e",
    "tags": [],
    "deepnote_cell_type": "markdown",
    "deepnote_cell_height": 74.78125
   }
  },
  {
   "cell_type": "code",
   "metadata": {
    "cell_id": "aff5204a-9ff0-4ae4-8b69-e8f39930996c",
    "tags": [],
    "deepnote_to_be_reexecuted": false,
    "source_hash": "b623e53d",
    "execution_start": 1646772694873,
    "execution_millis": 347547572,
    "deepnote_cell_type": "code",
    "deepnote_cell_height": 81
   },
   "source": "",
   "execution_count": 2,
   "outputs": []
  },
  {
   "cell_type": "markdown",
   "source": "## Parte 4: Visualizaciones y análisis (40%)\n\n\n",
   "metadata": {
    "cell_id": "ecbca260-0870-41bd-9761-3cfbab4997ab",
    "tags": [],
    "deepnote_cell_type": "markdown",
    "deepnote_cell_height": 70
   }
  },
  {
   "cell_type": "markdown",
   "source": "•\tExplorar por medio de una gráfica: ¿Cuál es la categoría de producto más costosa? (10%)",
   "metadata": {
    "cell_id": "8040b890-a67a-4150-97c7-54a713aa3755",
    "tags": [],
    "deepnote_cell_type": "markdown",
    "deepnote_cell_height": 52.390625
   }
  },
  {
   "cell_type": "code",
   "metadata": {
    "cell_id": "b74bc2ba-9808-4cb6-932f-041e68e6b22b",
    "tags": [],
    "deepnote_to_be_reexecuted": false,
    "source_hash": "b623e53d",
    "execution_start": 1646772694874,
    "execution_millis": 347547573,
    "deepnote_cell_type": "code",
    "deepnote_cell_height": 81
   },
   "source": "",
   "execution_count": 2,
   "outputs": []
  },
  {
   "cell_type": "markdown",
   "source": "•\tExplorar por medio de una gráfica: ¿Cuál es la categoría de producto más vendida? (10%)",
   "metadata": {
    "cell_id": "bfde21d7-d1aa-40b6-98de-d978a9aedf49",
    "tags": [],
    "deepnote_cell_type": "markdown",
    "deepnote_cell_height": 52.390625
   }
  },
  {
   "cell_type": "code",
   "metadata": {
    "cell_id": "93a57282-d171-4ee5-aed3-f820daac0792",
    "tags": [],
    "deepnote_to_be_reexecuted": false,
    "source_hash": "b623e53d",
    "execution_start": 1646772694924,
    "execution_millis": 347547573,
    "deepnote_cell_type": "code",
    "deepnote_cell_height": 81
   },
   "source": "",
   "execution_count": 2,
   "outputs": []
  },
  {
   "cell_type": "markdown",
   "source": "•\tExplorar por medio de una gráfica: ¿Cuál es el competidor más costoso? (10%)",
   "metadata": {
    "cell_id": "eb9495e2-e7ed-4941-9e06-6f4b523274cf",
    "tags": [],
    "deepnote_cell_type": "markdown",
    "deepnote_cell_height": 52.390625
   }
  },
  {
   "cell_type": "code",
   "metadata": {
    "cell_id": "b555d73a-3f26-45f8-b9f3-b2503f64e4c0",
    "tags": [],
    "deepnote_to_be_reexecuted": false,
    "source_hash": "b623e53d",
    "execution_start": 1646772694924,
    "execution_millis": 347547501,
    "deepnote_cell_type": "code",
    "deepnote_cell_height": 81
   },
   "source": "",
   "execution_count": 2,
   "outputs": []
  },
  {
   "cell_type": "markdown",
   "source": "•\tSuponiendo que todos los productos tengan un margen de contribución (Utilidad /Precio del producto) de 30%. ¿Cuál sería el producto que deberíamos vender? (10%)",
   "metadata": {
    "cell_id": "beddda66-1699-4592-9d4a-cbc89d816dcb",
    "tags": [],
    "deepnote_cell_type": "markdown",
    "deepnote_cell_height": 74.78125
   }
  },
  {
   "cell_type": "code",
   "metadata": {
    "cell_id": "204ec54f-025f-47ab-93cb-8a5f34084c86",
    "tags": [],
    "deepnote_to_be_reexecuted": false,
    "source_hash": "b623e53d",
    "execution_start": 1646772694925,
    "execution_millis": 347547438,
    "deepnote_cell_type": "code",
    "deepnote_cell_height": 81
   },
   "source": "",
   "execution_count": 2,
   "outputs": []
  },
  {
   "cell_type": "markdown",
   "source": "<a style='text-decoration:none;line-height:16px;display:flex;color:#5B5B62;padding:10px;justify-content:end;' href='https://deepnote.com?utm_source=created-in-deepnote-cell&projectId=1888c00f-dabe-4a0a-abf8-47afc543cc80' target=\"_blank\">\n<img alt='Created in deepnote.com' style='display:inline;max-height:16px;margin:0px;margin-right:7.5px;' src='data:image/svg+xml;base64,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' > </img>\nCreated in <span style='font-weight:600;margin-left:4px;'>Deepnote</span></a>",
   "metadata": {
    "tags": [],
    "created_in_deepnote_cell": true,
    "deepnote_cell_type": "markdown"
   }
  }
 ],
 "nbformat": 4,
 "nbformat_minor": 2,
 "metadata": {
  "orig_nbformat": 2,
  "deepnote": {
   "is_reactive": false
  },
  "deepnote_notebook_id": "c774994b-92f2-4962-9319-417f61ebc7a2",
  "deepnote_execution_queue": []
 }
}